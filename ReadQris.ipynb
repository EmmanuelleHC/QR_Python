{
  "nbformat": 4,
  "nbformat_minor": 0,
  "metadata": {
    "colab": {
      "provenance": []
    },
    "kernelspec": {
      "name": "python3",
      "display_name": "Python 3"
    },
    "language_info": {
      "name": "python"
    }
  },
  "cells": [
    {
      "cell_type": "code",
      "execution_count": null,
      "metadata": {
        "colab": {
          "base_uri": "https://localhost:8080/"
        },
        "id": "8hjenBb280Mr",
        "outputId": "367fc984-2fe4-4750-f8f0-249574a2e14b"
      },
      "outputs": [
        {
          "output_type": "stream",
          "name": "stdout",
          "text": [
            "Requirement already satisfied: opencv-python in /usr/local/lib/python3.12/dist-packages (4.12.0.88)\n",
            "Collecting pyzbar\n",
            "  Downloading pyzbar-0.1.9-py2.py3-none-any.whl.metadata (10 kB)\n",
            "Requirement already satisfied: Pillow in /usr/local/lib/python3.12/dist-packages (11.3.0)\n",
            "Collecting imagehash\n",
            "  Downloading ImageHash-4.3.2-py2.py3-none-any.whl.metadata (8.4 kB)\n",
            "Requirement already satisfied: scikit-image in /usr/local/lib/python3.12/dist-packages (0.25.2)\n",
            "Requirement already satisfied: requests in /usr/local/lib/python3.12/dist-packages (2.32.4)\n",
            "Requirement already satisfied: numpy<2.3.0,>=2 in /usr/local/lib/python3.12/dist-packages (from opencv-python) (2.0.2)\n",
            "Requirement already satisfied: PyWavelets in /usr/local/lib/python3.12/dist-packages (from imagehash) (1.9.0)\n",
            "Requirement already satisfied: scipy in /usr/local/lib/python3.12/dist-packages (from imagehash) (1.16.2)\n",
            "Requirement already satisfied: networkx>=3.0 in /usr/local/lib/python3.12/dist-packages (from scikit-image) (3.5)\n",
            "Requirement already satisfied: imageio!=2.35.0,>=2.33 in /usr/local/lib/python3.12/dist-packages (from scikit-image) (2.37.0)\n",
            "Requirement already satisfied: tifffile>=2022.8.12 in /usr/local/lib/python3.12/dist-packages (from scikit-image) (2025.10.4)\n",
            "Requirement already satisfied: packaging>=21 in /usr/local/lib/python3.12/dist-packages (from scikit-image) (25.0)\n",
            "Requirement already satisfied: lazy-loader>=0.4 in /usr/local/lib/python3.12/dist-packages (from scikit-image) (0.4)\n",
            "Requirement already satisfied: charset_normalizer<4,>=2 in /usr/local/lib/python3.12/dist-packages (from requests) (3.4.4)\n",
            "Requirement already satisfied: idna<4,>=2.5 in /usr/local/lib/python3.12/dist-packages (from requests) (3.11)\n",
            "Requirement already satisfied: urllib3<3,>=1.21.1 in /usr/local/lib/python3.12/dist-packages (from requests) (2.5.0)\n",
            "Requirement already satisfied: certifi>=2017.4.17 in /usr/local/lib/python3.12/dist-packages (from requests) (2025.10.5)\n",
            "Downloading pyzbar-0.1.9-py2.py3-none-any.whl (32 kB)\n",
            "Downloading ImageHash-4.3.2-py2.py3-none-any.whl (296 kB)\n",
            "\u001b[2K   \u001b[90m━━━━━━━━━━━━━━━━━━━━━━━━━━━━━━━━━━━━━━━━\u001b[0m \u001b[32m296.7/296.7 kB\u001b[0m \u001b[31m6.8 MB/s\u001b[0m eta \u001b[36m0:00:00\u001b[0m\n",
            "\u001b[?25hInstalling collected packages: pyzbar, imagehash\n",
            "Successfully installed imagehash-4.3.2 pyzbar-0.1.9\n",
            "Requirement already satisfied: pyzbar in /usr/local/lib/python3.12/dist-packages (0.1.9)\n",
            "Requirement already satisfied: opencv-python in /usr/local/lib/python3.12/dist-packages (4.12.0.88)\n",
            "Requirement already satisfied: pillow in /usr/local/lib/python3.12/dist-packages (11.3.0)\n",
            "Requirement already satisfied: imagehash in /usr/local/lib/python3.12/dist-packages (4.3.2)\n",
            "Requirement already satisfied: scikit-image in /usr/local/lib/python3.12/dist-packages (0.25.2)\n",
            "Requirement already satisfied: requests in /usr/local/lib/python3.12/dist-packages (2.32.4)\n",
            "Requirement already satisfied: numpy<2.3.0,>=2 in /usr/local/lib/python3.12/dist-packages (from opencv-python) (2.0.2)\n",
            "Requirement already satisfied: PyWavelets in /usr/local/lib/python3.12/dist-packages (from imagehash) (1.9.0)\n",
            "Requirement already satisfied: scipy in /usr/local/lib/python3.12/dist-packages (from imagehash) (1.16.2)\n",
            "Requirement already satisfied: networkx>=3.0 in /usr/local/lib/python3.12/dist-packages (from scikit-image) (3.5)\n",
            "Requirement already satisfied: imageio!=2.35.0,>=2.33 in /usr/local/lib/python3.12/dist-packages (from scikit-image) (2.37.0)\n",
            "Requirement already satisfied: tifffile>=2022.8.12 in /usr/local/lib/python3.12/dist-packages (from scikit-image) (2025.10.4)\n",
            "Requirement already satisfied: packaging>=21 in /usr/local/lib/python3.12/dist-packages (from scikit-image) (25.0)\n",
            "Requirement already satisfied: lazy-loader>=0.4 in /usr/local/lib/python3.12/dist-packages (from scikit-image) (0.4)\n",
            "Requirement already satisfied: charset_normalizer<4,>=2 in /usr/local/lib/python3.12/dist-packages (from requests) (3.4.4)\n",
            "Requirement already satisfied: idna<4,>=2.5 in /usr/local/lib/python3.12/dist-packages (from requests) (3.11)\n",
            "Requirement already satisfied: urllib3<3,>=1.21.1 in /usr/local/lib/python3.12/dist-packages (from requests) (2.5.0)\n",
            "Requirement already satisfied: certifi>=2017.4.17 in /usr/local/lib/python3.12/dist-packages (from requests) (2025.10.5)\n"
          ]
        }
      ],
      "source": [
        "!pip install opencv-python pyzbar Pillow imagehash scikit-image requests\n",
        "!pip install pyzbar\n",
        "!pip install opencv-python pillow imagehash scikit-image requests\n"
      ]
    },
    {
      "cell_type": "code",
      "source": [
        "from google.colab import drive\n",
        "drive.mount('/content/drive')\n"
      ],
      "metadata": {
        "colab": {
          "base_uri": "https://localhost:8080/"
        },
        "id": "gpaI68ZYKOSY",
        "outputId": "d0f94ba2-b64d-43b2-b482-9051ec801e0a"
      },
      "execution_count": null,
      "outputs": [
        {
          "output_type": "stream",
          "name": "stdout",
          "text": [
            "Drive already mounted at /content/drive; to attempt to forcibly remount, call drive.mount(\"/content/drive\", force_remount=True).\n"
          ]
        }
      ]
    },
    {
      "cell_type": "markdown",
      "source": [
        "### QR Code Alteration Detection Method\n",
        "\n",
        "This method detects tampered QR codes by combining **payload verification** with **image similarity analysis**. It checks both the data encoded in the QR and the visual integrity of the QR image.\n",
        "\n",
        "## 1. Payload Verification\n",
        "- The QR code is decoded using OpenCV’s `QRCodeDetector`.\n",
        "- Multiple strategies maximize readability:\n",
        "  - **Direct decoding** of a single QR code.\n",
        "  - **Multi-QR decoding** if multiple codes are present.\n",
        "  - **Preprocessing** (grayscale conversion, histogram equalization, thresholding) for noisy or damaged images.\n",
        "- **Purpose:** If the decoded payload differs from the reference QR, the QR is immediately flagged as suspicious.\n",
        "\n",
        "## 2. Image Similarity Analysis\n",
        "Even if the payload matches, the QR image itself might be visually altered. Three complementary techniques compare the candidate QR with a reference image:\n",
        "\n",
        "1. **Perceptual Hash (pHash)**  \n",
        "   - Summarizes the image into a compact hash representing its overall visual appearance.  \n",
        "   - Measures global visual similarity: small differences → similar images, large differences → possible alteration.\n",
        "\n",
        "2. **Structural Similarity Index (SSIM)**  \n",
        "   - Measures similarity in **structure, contrast, and brightness**.  \n",
        "   - Values range from 0 (different) to 1 (identical).  \n",
        "   - Detects blurring, noise, or contrast/color changes.\n",
        "\n",
        "3. **ORB Feature Matching**  \n",
        "   - Detects **local keypoints** (corners, edges) and computes descriptors.  \n",
        "   - Matches features between candidate and reference QR codes.  \n",
        "   - Fewer good matches indicate local edits, scratches, or partial tampering.\n",
        "\n",
        "## 3. Risk Scoring\n",
        "- A simple scoring system combines all checks:\n",
        "  - Payload mismatch → **50 points**  \n",
        "  - pHash distance > 8 → **20 points**  \n",
        "  - SSIM < 0.7 → **15 points**  \n",
        "  - ORB score < 0.15 → **15 points**  \n",
        "- **Total score ≥ 40 → QR is flagged as suspected altered.**\n",
        "\n"
      ],
      "metadata": {
        "id": "cd_KDDG7gX7e"
      }
    },
    {
      "cell_type": "code",
      "source": [
        "import cv2\n",
        "from PIL import Image\n",
        "import imagehash\n",
        "from skimage.metrics import structural_similarity as ssim\n",
        "import os\n",
        "\n",
        "# ------------------- QR DECODING -------------------\n",
        "def decode_qr(image_path):\n",
        "    \"\"\"\n",
        "    Decode a QR code from an image.\n",
        "    Tries multiple strategies: direct, multi QR, and pre-processed thresholded image.\n",
        "    Returns the decoded payload string or None if not readable.\n",
        "    \"\"\"\n",
        "    img = cv2.imread(image_path)\n",
        "    if img is None:\n",
        "        raise ValueError(f\"Cannot read image: {image_path}\")\n",
        "\n",
        "    detector = cv2.QRCodeDetector()\n",
        "    data, points, _ = detector.detectAndDecode(img)\n",
        "    if data:\n",
        "        return data\n",
        "\n",
        "    try:\n",
        "        ok, decoded_info, _, _ = detector.detectAndDecodeMulti(img)\n",
        "        if ok and decoded_info:\n",
        "            for d in decoded_info:\n",
        "                if d:\n",
        "                    return d\n",
        "    except Exception:\n",
        "        pass\n",
        "\n",
        "    gray = cv2.cvtColor(img, cv2.COLOR_BGR2GRAY)\n",
        "    gray = cv2.equalizeHist(gray)\n",
        "    _, th = cv2.threshold(gray, 0, 255, cv2.THRESH_BINARY + cv2.THRESH_OTSU)\n",
        "    data2, _, _ = detector.detectAndDecode(th)\n",
        "    return data2 or None\n",
        "\n",
        "\n",
        "# ------------------- IMAGE SIMILARITY -------------------\n",
        "def phash_distance(img_path_a, img_path_b):\n",
        "    \"\"\"Compute perceptual hash distance between two images (lower = more similar).\"\"\"\n",
        "    a = Image.open(img_path_a)\n",
        "    b = Image.open(img_path_b)\n",
        "    ha = imagehash.phash(a)\n",
        "    hb = imagehash.phash(b)\n",
        "    return ha - hb\n",
        "\n",
        "def ssim_score(img_path_a, img_path_b):\n",
        "    \"\"\"Compute Structural Similarity Index (SSIM) between two images (0-1 scale).\"\"\"\n",
        "    a = cv2.imread(img_path_a, cv2.IMREAD_GRAYSCALE)\n",
        "    b = cv2.imread(img_path_b, cv2.IMREAD_GRAYSCALE)\n",
        "    h = min(a.shape[0], b.shape[0])\n",
        "    w = min(a.shape[1], b.shape[1])\n",
        "    a_r = cv2.resize(a, (w, h))\n",
        "    b_r = cv2.resize(b, (w, h))\n",
        "    return ssim(a_r, b_r)\n",
        "\n",
        "def orb_match_score(img_path_a, img_path_b):\n",
        "    \"\"\"Compute ORB feature matching score between two images (higher = more similar).\"\"\"\n",
        "    a = cv2.imread(img_path_a, cv2.IMREAD_GRAYSCALE)\n",
        "    b = cv2.imread(img_path_b, cv2.IMREAD_GRAYSCALE)\n",
        "    orb = cv2.ORB_create(500)\n",
        "    kp1, des1 = orb.detectAndCompute(a, None)\n",
        "    kp2, des2 = orb.detectAndCompute(b, None)\n",
        "    if des1 is None or des2 is None:\n",
        "        return 0\n",
        "    bf = cv2.BFMatcher(cv2.NORM_HAMMING, crossCheck=True)\n",
        "    matches = bf.match(des1, des2)\n",
        "    good = [m for m in matches if m.distance < 60]\n",
        "    return len(good) / max(1, min(len(kp1), len(kp2)))\n",
        "\n",
        "\n",
        "# ------------------- QR EVALUATION -------------------\n",
        "def evaluate_qr(candidate_img, reference_img, expected_payload_substring=None):\n",
        "    \"\"\"\n",
        "    Evaluate a candidate QR image against a reference.\n",
        "    Returns a dictionary with:\n",
        "      - decoded payload\n",
        "      - similarity metrics (phash, SSIM, ORB)\n",
        "      - risk score\n",
        "      - suspected flag\n",
        "    \"\"\"\n",
        "    result = {}\n",
        "    payload = decode_qr(candidate_img)\n",
        "    result['payload'] = payload\n",
        "\n",
        "    if not payload:\n",
        "        result['payload_ok'] = False\n",
        "        result['payload_reason'] = 'Tidak terbaca'\n",
        "    else:\n",
        "        ref_payload = decode_qr(reference_img)\n",
        "        result['payload_ok'] = (payload == ref_payload)\n",
        "        result['payload_reason'] = (\n",
        "            'same payload' if result['payload_ok'] else 'payload differs'\n",
        "        )\n",
        "\n",
        "    # Image similarity metrics\n",
        "    result['phash_dist'] = phash_distance(candidate_img, reference_img)\n",
        "    result['ssim'] = ssim_score(candidate_img, reference_img)\n",
        "    result['orb_score'] = orb_match_score(candidate_img, reference_img)\n",
        "\n",
        "    risk = 0\n",
        "    if not result['payload_ok']:\n",
        "        risk += 50\n",
        "    if result['phash_dist'] > 8:\n",
        "        risk += 20\n",
        "    if result['ssim'] < 0.7:\n",
        "        risk += 15\n",
        "    if result['orb_score'] < 0.15:\n",
        "        risk += 15\n",
        "\n",
        "    result['risk_score'] = risk\n",
        "    result['is_suspected'] = risk >= 40\n",
        "    return result\n",
        "\n",
        "\n",
        "if __name__ == \"__main__\":\n",
        "    candidate_file = \"/content/drive/MyDrive/ScanQR/altered_qr.png\"\n",
        "    reference_file = \"/content/drive/MyDrive/ScanQR/qr2.jpg\"\n",
        "\n",
        "    if not os.path.exists(candidate_file) or not os.path.exists(reference_file):\n",
        "        raise FileNotFoundError(\"Candidate or reference QR image not found.\")\n",
        "\n",
        "    expected_id = \"ID1019000001403\"\n",
        "    print(\"Evaluating QR...\")\n",
        "\n",
        "    result = evaluate_qr(candidate_file, reference_file, expected_id)\n",
        "\n",
        "    print(\"\\n=== QR EVALUATION RESULT ===\")\n",
        "    for k, v in result.items():\n",
        "        print(f\"{k}: {v}\")\n"
      ],
      "metadata": {
        "colab": {
          "base_uri": "https://localhost:8080/"
        },
        "id": "BIRRAA4y9TnA",
        "outputId": "a91f1dad-c453-4e22-fe73-c4a78b4031cb"
      },
      "execution_count": null,
      "outputs": [
        {
          "output_type": "stream",
          "name": "stdout",
          "text": [
            "Downloading images...\n",
            "Evaluating QR...\n",
            "\n",
            "=== QR EVALUATION RESULT ===\n",
            "payload: 26650013ID.CO.BCA.WWW011893600014000094045302150008850009404530303UKE51440014ID.CO.QRIS.WWW0215ID20200340731930303UKE5204507253033605802ID5916InterActive Corp6015Permata Safira 61056013662070703A01000201010211630404F3\n",
            "payload_ok: False\n",
            "payload_reason: payload differs\n",
            "phash_dist: 22\n",
            "ssim: 0.09322572444608174\n",
            "orb_score: 0.0023148148148148147\n",
            "risk_score: 100\n",
            "is_suspected: True\n"
          ]
        }
      ]
    },
    {
      "cell_type": "markdown",
      "source": [
        "### QRIS Generator\n",
        "\n",
        "https://twnku.github.io/qrisgen/"
      ],
      "metadata": {
        "id": "UyS-LPR0O8K9"
      }
    },
    {
      "cell_type": "markdown",
      "source": [
        "## QRIS Editor — How the QR Code Manipulation Works\n",
        "\n",
        "This website **[QRIS Editor](https://tegarsbl.github.io/QRIS-Editor/)** demonstrates how a malicious actor can **modify (alter) the content of a QR code** used for payments.\n",
        "\n",
        "### How the scam works\n",
        "\n",
        "* The attacker creates a **base QR code** that looks identical to the legitimate merchant’s QR code (the victim).\n",
        "* When the QR code is **altered**, the **visible information** — such as the **merchant’s name** — still appears correct, making it look authentic.\n",
        "* However, the **payload inside the QR code** (which determines the real payment destination — e.g., acquirer ID or receiving account) is changed.\n",
        "* As a result, when a customer scans the code, the payment is **redirected to the scammer’s account** instead of the legitimate merchant’s.\n",
        "* The payer believes they are paying the real merchant because the merchant’s name and branding still appear normal.\n"
      ],
      "metadata": {
        "id": "lBsqWTbIQg_I"
      }
    }
  ]
}