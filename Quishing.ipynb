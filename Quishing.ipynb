{
  "nbformat": 4,
  "nbformat_minor": 0,
  "metadata": {
    "colab": {
      "provenance": []
    },
    "kernelspec": {
      "name": "python3",
      "display_name": "Python 3"
    },
    "language_info": {
      "name": "python"
    }
  },
  "cells": [
    {
      "cell_type": "markdown",
      "source": [
        "\n",
        "## Dataset\n",
        "https://github.com/fouadtrad/Detecting-Quishing-Attacks-with-Machine-Learning-Techniques-Through-QR-Code-Analysis"
      ],
      "metadata": {
        "id": "ho_HXIxbP26K"
      }
    },
    {
      "cell_type": "code",
      "execution_count": null,
      "metadata": {
        "colab": {
          "base_uri": "https://localhost:8080/"
        },
        "id": "9CNQ9O2WOo-h",
        "outputId": "2855d1f0-e858-4d08-fa06-0b68ae46b0e0"
      },
      "outputs": [
        {
          "output_type": "stream",
          "name": "stdout",
          "text": [
            "Drive already mounted at /content/drive; to attempt to forcibly remount, call drive.mount(\"/content/drive\", force_remount=True).\n"
          ]
        }
      ],
      "source": [
        "from google.colab import drive\n",
        "drive.mount('/content/drive')\n"
      ]
    },
    {
      "cell_type": "code",
      "source": [
        "!pip install numpy pandas matplotlib scikit-learn opencv-python pyzbar"
      ],
      "metadata": {
        "colab": {
          "base_uri": "https://localhost:8080/"
        },
        "id": "q_OgMxNJPnpV",
        "outputId": "cd0b1822-33fe-492e-da58-c1d69760cfe5"
      },
      "execution_count": null,
      "outputs": [
        {
          "output_type": "stream",
          "name": "stdout",
          "text": [
            "Requirement already satisfied: numpy in /usr/local/lib/python3.12/dist-packages (2.0.2)\n",
            "Requirement already satisfied: pandas in /usr/local/lib/python3.12/dist-packages (2.2.2)\n",
            "Requirement already satisfied: matplotlib in /usr/local/lib/python3.12/dist-packages (3.10.0)\n",
            "Requirement already satisfied: scikit-learn in /usr/local/lib/python3.12/dist-packages (1.6.1)\n",
            "Requirement already satisfied: opencv-python in /usr/local/lib/python3.12/dist-packages (4.12.0.88)\n",
            "Requirement already satisfied: pyzbar in /usr/local/lib/python3.12/dist-packages (0.1.9)\n",
            "Requirement already satisfied: python-dateutil>=2.8.2 in /usr/local/lib/python3.12/dist-packages (from pandas) (2.9.0.post0)\n",
            "Requirement already satisfied: pytz>=2020.1 in /usr/local/lib/python3.12/dist-packages (from pandas) (2025.2)\n",
            "Requirement already satisfied: tzdata>=2022.7 in /usr/local/lib/python3.12/dist-packages (from pandas) (2025.2)\n",
            "Requirement already satisfied: contourpy>=1.0.1 in /usr/local/lib/python3.12/dist-packages (from matplotlib) (1.3.3)\n",
            "Requirement already satisfied: cycler>=0.10 in /usr/local/lib/python3.12/dist-packages (from matplotlib) (0.12.1)\n",
            "Requirement already satisfied: fonttools>=4.22.0 in /usr/local/lib/python3.12/dist-packages (from matplotlib) (4.60.1)\n",
            "Requirement already satisfied: kiwisolver>=1.3.1 in /usr/local/lib/python3.12/dist-packages (from matplotlib) (1.4.9)\n",
            "Requirement already satisfied: packaging>=20.0 in /usr/local/lib/python3.12/dist-packages (from matplotlib) (25.0)\n",
            "Requirement already satisfied: pillow>=8 in /usr/local/lib/python3.12/dist-packages (from matplotlib) (11.3.0)\n",
            "Requirement already satisfied: pyparsing>=2.3.1 in /usr/local/lib/python3.12/dist-packages (from matplotlib) (3.2.5)\n",
            "Requirement already satisfied: scipy>=1.6.0 in /usr/local/lib/python3.12/dist-packages (from scikit-learn) (1.16.2)\n",
            "Requirement already satisfied: joblib>=1.2.0 in /usr/local/lib/python3.12/dist-packages (from scikit-learn) (1.5.2)\n",
            "Requirement already satisfied: threadpoolctl>=3.1.0 in /usr/local/lib/python3.12/dist-packages (from scikit-learn) (3.6.0)\n",
            "Requirement already satisfied: six>=1.5 in /usr/local/lib/python3.12/dist-packages (from python-dateutil>=2.8.2->pandas) (1.17.0)\n"
          ]
        }
      ]
    },
    {
      "cell_type": "code",
      "source": [
        "import os\n",
        "import re\n",
        "import cv2\n",
        "import csv\n",
        "import joblib\n",
        "import pickle\n",
        "import random\n",
        "import numpy as np\n",
        "import pandas as pd\n",
        "import matplotlib.pyplot as plt\n",
        "from collections import Counter\n",
        "from sklearn.model_selection import train_test_split\n",
        "from sklearn.preprocessing import StandardScaler\n",
        "from sklearn.metrics import (\n",
        "    roc_auc_score, precision_score, recall_score, f1_score,\n",
        "    confusion_matrix, classification_report\n",
        ")\n",
        "from xgboost import XGBClassifier\n"
      ],
      "metadata": {
        "id": "2Ch1eYwLIDvy"
      },
      "execution_count": null,
      "outputs": []
    },
    {
      "cell_type": "markdown",
      "source": [
        "### Filter the dataset to include only QR codes that can be successfully decoded into a URL, and save those results to Google Drive.\n",
        "\n"
      ],
      "metadata": {
        "id": "zc3mFEjFP6C4"
      }
    },
    {
      "cell_type": "code",
      "source": [
        "drive_dir = '/content/drive/MyDrive/ScanQR'\n",
        "pickle_x = f'{drive_dir}/qr_codes_29.pickle'\n",
        "pickle_y = f'{drive_dir}/qr_codes_29_labels.pickle'\n",
        "save_dir = f'{drive_dir}/decoded_images'\n",
        "csv_path = f'{drive_dir}/decoded_qr_links.csv'\n",
        "\n",
        "os.makedirs(save_dir, exist_ok=True)\n",
        "\n",
        "with open(pickle_x, 'rb') as f:\n",
        "    X = pickle.load(f)\n",
        "\n",
        "with open(pickle_y, 'rb') as f:\n",
        "    y = pickle.load(f)\n",
        "\n",
        "print(f\"Loaded {len(X)} images, {len(y)} labels\")\n",
        "\n",
        "def enhance_and_decode(img):\n",
        "    img = (img * 255).astype('uint8') if img.max() <= 1.0 else img\n",
        "    if img.ndim == 3 and img.shape[2] == 3:\n",
        "        gray = cv2.cvtColor(img, cv2.COLOR_BGR2GRAY)\n",
        "    else:\n",
        "        gray = img\n",
        "\n",
        "    big = cv2.resize(gray, (600, 600), interpolation=cv2.INTER_NEAREST)\n",
        "\n",
        "    bordered = cv2.copyMakeBorder(big, 80, 80, 80, 80, cv2.BORDER_CONSTANT, value=255)\n",
        "\n",
        "    blur = cv2.GaussianBlur(bordered, (3, 3), 0)\n",
        "    _, th = cv2.threshold(blur, 0, 255, cv2.THRESH_BINARY + cv2.THRESH_OTSU)\n",
        "\n",
        "    det = cv2.QRCodeDetector()\n",
        "    data, _, _ = det.detectAndDecode(th)\n",
        "    return data\n",
        "\n",
        "decoded_results = []\n",
        "decoded_count = 0\n",
        "\n",
        "for i in range(len(X)):\n",
        "    label = int(y[i])\n",
        "    decoded = enhance_and_decode(X[i])\n",
        "\n",
        "    if decoded:\n",
        "        decoded_count += 1\n",
        "        decoded_results.append((i, label, decoded))\n",
        "\n",
        "        img = (X[i] * 255).astype('uint8') if X[i].max() <= 1.0 else X[i]\n",
        "        filename = f\"{'benign' if label == 0 else 'phishing'}_{i}.png\"\n",
        "        cv2.imwrite(os.path.join(save_dir, filename), img)\n",
        "\n",
        "with open(csv_path, 'w', newline='', encoding='utf-8') as f:\n",
        "    writer = csv.writer(f)\n",
        "    writer.writerow(['index', 'label', 'decoded_text'])\n",
        "    writer.writerows(decoded_results)\n",
        "\n",
        "print(f\"\\n Decoded {decoded_count} out of {len(X)} images\")\n",
        "print(f\"Images saved to: {save_dir}\")\n",
        "print(f\"CSV saved to: {csv_path}\")\n"
      ],
      "metadata": {
        "colab": {
          "base_uri": "https://localhost:8080/"
        },
        "collapsed": true,
        "id": "Lv36Fj1myB6q",
        "outputId": "b16c9493-4ad9-4394-be2f-ddb6673cfed6"
      },
      "execution_count": null,
      "outputs": [
        {
          "output_type": "stream",
          "name": "stdout",
          "text": [
            "Loaded 9987 images, 9987 labels\n",
            "\n",
            " Decoded 8594 out of 9987 images\n",
            "Images saved to: /content/drive/MyDrive/ScanQR/decoded_images\n",
            "CSV saved to: /content/drive/MyDrive/ScanQR/decoded_qr_links.csv\n"
          ]
        }
      ]
    },
    {
      "cell_type": "markdown",
      "source": [
        "### Display example QR codes: one phishing and one benign"
      ],
      "metadata": {
        "id": "_A5Mpw48QT5U"
      }
    },
    {
      "cell_type": "code",
      "source": [
        "base_dir = '/content/drive/MyDrive/ScanQR'\n",
        "save_dir = f'{base_dir}/decoded_images'\n",
        "\n",
        "image_files = [f for f in os.listdir(save_dir) if f.endswith('.png')]\n",
        "print(f\"Found {len(image_files)} decoded images\")\n",
        "\n",
        "sample_files = random.sample(image_files, min(10, len(image_files)))\n",
        "\n",
        "fig, axes = plt.subplots(2, 5, figsize=(12, 5))\n",
        "for ax, filename in zip(axes.flat, sample_files):\n",
        "    path = os.path.join(save_dir, filename)\n",
        "    img = cv2.imread(path, cv2.IMREAD_GRAYSCALE)\n",
        "    label = \"BENIGN\" if \"benign\" in filename else \"PHISHING\"\n",
        "    ax.imshow(img, cmap='gray')\n",
        "    ax.set_title(label)\n",
        "    ax.axis(\"off\")\n",
        "\n",
        "plt.tight_layout()\n",
        "plt.show()\n"
      ],
      "metadata": {
        "colab": {
          "base_uri": "https://localhost:8080/",
          "height": 383
        },
        "id": "xF3_giOcRJW3",
        "outputId": "f922d7ae-a295-46ee-d339-d33f95c461b6"
      },
      "execution_count": null,
      "outputs": [
        {
          "output_type": "stream",
          "name": "stdout",
          "text": [
            "Found 8594 decoded images\n"
          ]
        },
        {
          "output_type": "display_data",
          "data": {
            "text/plain": [
              "<Figure size 1200x500 with 10 Axes>"
            ],
            "image/png": "[encoded data removed]"
          },
          "metadata": {}
        }
      ]
    },
    {
      "cell_type": "markdown",
      "source": [
        "## Example of ML model\n",
        "\n",
        "\n",
        "This model learns from two types of features: visual patterns from the QR images and textual characteristics from the decoded URLs. The image features come from pixel intensity values that capture QR structure, contrast, and noise patterns that may differ between legitimate and phishing codes. The URL features include aspects like length, number of digits, presence of HTTPS or IP addresses, special characters, and subdomains."
      ],
      "metadata": {
        "id": "lXP45UelQTGn"
      }
    },
    {
      "cell_type": "code",
      "source": [
        "base_dir = '/content/drive/MyDrive/ScanQR'\n",
        "decoded_dir = f'{base_dir}/decoded_images'\n",
        "csv_path = f'{base_dir}/decoded_qr_links.csv'\n",
        "\n",
        "# -------------------------\n",
        "# 1. Load decoded QR images\n",
        "# -------------------------\n",
        "X = []\n",
        "y = []\n",
        "\n",
        "for filename in os.listdir(decoded_dir):\n",
        "    if filename.endswith('.png'):\n",
        "        path = os.path.join(decoded_dir, filename)\n",
        "        img = cv2.imread(path, cv2.IMREAD_GRAYSCALE)\n",
        "        if img is not None:\n",
        "            X.append(img)\n",
        "            label = 0 if 'benign' in filename.lower() else 1\n",
        "            y.append(label)\n",
        "\n",
        "X = np.array(X)\n",
        "y = np.array(y)\n",
        "\n",
        "print(f\"Loaded {len(X)} decoded images from: {decoded_dir}\")\n",
        "print(\"Label distribution:\", Counter(y))\n",
        "\n",
        "# -------------------------\n",
        "# 2. Load decoded QR links (textual data)\n",
        "# -------------------------\n",
        "if os.path.exists(csv_path):\n",
        "    decoded_df = pd.read_csv(csv_path)\n",
        "    print(f\"Loaded {len(decoded_df)} decoded links from CSV.\")\n",
        "else:\n",
        "    decoded_df = None\n",
        "    print(\"⚠️ CSV file not found, continuing with image-only features.\")\n",
        "\n",
        "# -------------------------\n",
        "# 3. Preprocess images\n",
        "# -------------------------\n",
        "Xf = X.reshape((X.shape[0], -1)).astype('float32') / 255.0\n",
        "print(f\"Image feature matrix shape: {Xf.shape}\")\n",
        "\n",
        "# -------------------------\n",
        "# 4. Extract URL-based features\n",
        "# -------------------------\n",
        "if decoded_df is not None and 'decoded_text' in decoded_df.columns:\n",
        "    print(\"\\nExtracting text-based URL features...\")\n",
        "\n",
        "    decoded_df['decoded_text'] = decoded_df['decoded_text'].fillna('')\n",
        "    decoded_df['url_length'] = decoded_df['decoded_text'].apply(len)\n",
        "    decoded_df['num_digits'] = decoded_df['decoded_text'].apply(lambda x: sum(c.isdigit() for c in x))\n",
        "    decoded_df['has_https'] = decoded_df['decoded_text'].apply(lambda x: int('https' in x))\n",
        "    decoded_df['has_ip'] = decoded_df['decoded_text'].apply(\n",
        "        lambda x: int(bool(re.search(r'\\b\\d{1,3}(\\.\\d{1,3}){3}\\b', x)))\n",
        "    )\n",
        "    decoded_df['num_special_chars'] = decoded_df['decoded_text'].apply(\n",
        "        lambda x: sum(not c.isalnum() for c in x)\n",
        "    )\n",
        "    decoded_df['num_subdomains'] = decoded_df['decoded_text'].apply(lambda x: x.count('.'))\n",
        "\n",
        "    url_features = decoded_df[['url_length', 'num_digits', 'has_https', 'has_ip',\n",
        "                               'num_special_chars', 'num_subdomains']].values\n",
        "\n",
        "    scaler = StandardScaler()\n",
        "    url_features_scaled = scaler.fit_transform(url_features)\n",
        "\n",
        "    n = min(len(Xf), len(url_features_scaled))\n",
        "    combined_features = np.hstack((Xf[:n], url_features_scaled[:n]))\n",
        "    y = y[:n]\n",
        "\n",
        "else:\n",
        "    combined_features = Xf\n",
        "\n",
        "# -------------------------\n",
        "# 5. Split train/test\n",
        "# -------------------------\n",
        "X_train, X_test, y_train, y_test = train_test_split(\n",
        "    combined_features, y, test_size=0.2, random_state=42, stratify=y\n",
        ")\n",
        "\n",
        "print(f\"\\nTraining samples: {X_train.shape[0]}, Test samples: {X_test.shape[0]}\")\n",
        "print(\"Train label distribution:\", Counter(y_train))\n",
        "print(\"Test label distribution:\", Counter(y_test))\n",
        "\n",
        "# -------------------------\n",
        "# 6. Train XGBoost\n",
        "# -------------------------\n",
        "model = XGBClassifier(\n",
        "    use_label_encoder=False,\n",
        "    eval_metric='logloss',\n",
        "    n_estimators=200,\n",
        "    max_depth=6\n",
        ")\n",
        "model.fit(X_train, y_train)\n",
        "\n",
        "# -------------------------\n",
        "# 7. Predict & Evaluate\n",
        "# -------------------------\n",
        "y_prob = model.predict_proba(X_test)[:, 1]\n",
        "y_pred = (y_prob > 0.5).astype(int)\n",
        "\n",
        "auc_score = roc_auc_score(y_test, y_prob)\n",
        "precision = precision_score(y_test, y_pred)\n",
        "recall = recall_score(y_test, y_pred)\n",
        "f1 = f1_score(y_test, y_pred)\n",
        "cm = confusion_matrix(y_test, y_pred)\n",
        "\n",
        "print(\"\\n=== Evaluation on Test Set ===\")\n",
        "print(f\"AUC:       {auc_score:.4f}\")\n",
        "print(f\"Precision: {precision:.4f}\")\n",
        "print(f\"Recall:    {recall:.4f}\")\n",
        "print(f\"F1-score:  {f1:.4f}\")\n",
        "print(\"\\nConfusion Matrix:\\n\", cm)\n",
        "print(\"\\nDetailed Classification Report:\")\n",
        "print(classification_report(y_test, y_pred, target_names=[\"BENIGN\", \"PHISHING\"]))\n",
        "\n",
        "# -------------------------\n",
        "# 8. Save Model\n",
        "# -------------------------\n",
        "model_path = os.path.join(base_dir, \"quishing_xgb_decoded_combined.pkl\")\n",
        "joblib.dump(model, model_path)\n",
        "print(f\"\\n Model saved to: {model_path}\")\n"
      ],
      "metadata": {
        "colab": {
          "base_uri": "https://localhost:8080/"
        },
        "id": "P_rJIBlyTWpX",
        "outputId": "cb06edd8-923d-422b-faa8-b9f074c2eb23"
      },
      "execution_count": null,
      "outputs": [
        {
          "output_type": "stream",
          "name": "stdout",
          "text": [
            "Loaded 8594 decoded images from: /content/drive/MyDrive/ScanQR/decoded_images\n",
            "Label distribution: Counter({np.int64(1): 4316, np.int64(0): 4278})\n",
            "Loaded 8594 decoded links from CSV.\n",
            "Image feature matrix shape: (8594, 4761)\n",
            "\n",
            "Extracting text-based URL features...\n",
            "\n",
            "Training samples: 6875, Test samples: 1719\n",
            "Train label distribution: Counter({np.int64(1): 3453, np.int64(0): 3422})\n",
            "Test label distribution: Counter({np.int64(1): 863, np.int64(0): 856})\n"
          ]
        },
        {
          "output_type": "stream",
          "name": "stderr",
          "text": [
            "/usr/local/lib/python3.12/dist-packages/xgboost/training.py:183: UserWarning: [06:08:08] WARNING: /workspace/src/learner.cc:738: \n",
            "Parameters: { \"use_label_encoder\" } are not used.\n",
            "\n",
            "  bst.update(dtrain, iteration=i, fobj=obj)\n"
          ]
        },
        {
          "output_type": "stream",
          "name": "stdout",
          "text": [
            "\n",
            "=== Evaluation on Test Set ===\n",
            "AUC:       0.9229\n",
            "Precision: 0.8584\n",
            "Recall:    0.8076\n",
            "F1-score:  0.8322\n",
            "\n",
            "Confusion Matrix:\n",
            " [[741 115]\n",
            " [166 697]]\n",
            "\n",
            "Detailed Classification Report:\n",
            "              precision    recall  f1-score   support\n",
            "\n",
            "      BENIGN       0.82      0.87      0.84       856\n",
            "    PHISHING       0.86      0.81      0.83       863\n",
            "\n",
            "    accuracy                           0.84      1719\n",
            "   macro avg       0.84      0.84      0.84      1719\n",
            "weighted avg       0.84      0.84      0.84      1719\n",
            "\n",
            "\n",
            " Model saved to: /content/drive/MyDrive/ScanQR/quishing_xgb_decoded_combined.pkl\n"
          ]
        }
      ]
    }
  ]
}